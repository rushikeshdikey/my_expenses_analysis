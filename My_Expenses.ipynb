{
 "cells": [
  {
   "cell_type": "markdown",
   "id": "a4dc9687",
   "metadata": {},
   "source": [
    "## Libraries"
   ]
  },
  {
   "cell_type": "code",
   "execution_count": 333,
   "id": "65a59cb0",
   "metadata": {},
   "outputs": [],
   "source": [
    "import pandas as pd\n",
    "import numpy as np\n",
    "import matplotlib.pyplot as plt\n",
    "import plotly.express as px\n",
    "import seaborn as sns\n",
    "from statsmodels.graphics.tsaplots import plot_acf, plot_pacf"
   ]
  },
  {
   "cell_type": "markdown",
   "id": "8a99eedb",
   "metadata": {},
   "source": [
    "## Import Data"
   ]
  },
  {
   "cell_type": "code",
   "execution_count": 265,
   "id": "09b98bd3",
   "metadata": {},
   "outputs": [],
   "source": [
    "#df = pd.read_csv(\"MoneyLover-2022-09-11.csv\")"
   ]
  },
  {
   "cell_type": "markdown",
   "id": "365c0091",
   "metadata": {},
   "source": [
    "#### Info of the data"
   ]
  },
  {
   "cell_type": "code",
   "execution_count": 266,
   "id": "4e0c56db",
   "metadata": {},
   "outputs": [],
   "source": [
    "#df.info()"
   ]
  },
  {
   "cell_type": "markdown",
   "id": "8dfd530f",
   "metadata": {},
   "source": [
    "#### Look at data"
   ]
  },
  {
   "cell_type": "code",
   "execution_count": 267,
   "id": "31a24504",
   "metadata": {},
   "outputs": [],
   "source": [
    "#df.head()"
   ]
  },
  {
   "cell_type": "code",
   "execution_count": 327,
   "id": "208daaa0",
   "metadata": {},
   "outputs": [],
   "source": [
    "def wrangle(filepath):\n",
    "    # Read CSV to file\n",
    "    df = pd.read_csv(filepath)\n",
    "    \n",
    "    # Drop extra columns\n",
    "    df.drop(columns=[\"ID\", \"Note\", \"Exclude Report\", \"Account\", \"Currency\"], inplace=True)\n",
    "    \n",
    "    # Convert Date datetime format\n",
    "    df[\"Date\"] = pd.to_datetime(df[\"Date\"], format='%d/%m/%Y')\n",
    "    \n",
    "    return df"
   ]
  },
  {
   "cell_type": "code",
   "execution_count": 330,
   "id": "b9bb47ec",
   "metadata": {
    "scrolled": true
   },
   "outputs": [
    {
     "name": "stdout",
     "output_type": "stream",
     "text": [
      "<class 'pandas.core.frame.DataFrame'>\n",
      "RangeIndex: 2683 entries, 0 to 2682\n",
      "Data columns (total 4 columns):\n",
      " #   Column    Non-Null Count  Dtype         \n",
      "---  ------    --------------  -----         \n",
      " 0   Amount    2683 non-null   int64         \n",
      " 1   Category  2683 non-null   object        \n",
      " 2   Date      2683 non-null   datetime64[ns]\n",
      " 3   Event     2683 non-null   object        \n",
      "dtypes: datetime64[ns](1), int64(1), object(2)\n",
      "memory usage: 84.0+ KB\n"
     ]
    }
   ],
   "source": [
    "df = wrangle(\"MoneyLover-2022-09-11.csv\")\n",
    "#print(\"df shape:\", df.shape)\n",
    "df.info()"
   ]
  },
  {
   "cell_type": "code",
   "execution_count": 329,
   "id": "b39a76c4",
   "metadata": {
    "scrolled": false
   },
   "outputs": [
    {
     "data": {
      "text/html": [
       "<div>\n",
       "<style scoped>\n",
       "    .dataframe tbody tr th:only-of-type {\n",
       "        vertical-align: middle;\n",
       "    }\n",
       "\n",
       "    .dataframe tbody tr th {\n",
       "        vertical-align: top;\n",
       "    }\n",
       "\n",
       "    .dataframe thead th {\n",
       "        text-align: right;\n",
       "    }\n",
       "</style>\n",
       "<table border=\"1\" class=\"dataframe\">\n",
       "  <thead>\n",
       "    <tr style=\"text-align: right;\">\n",
       "      <th></th>\n",
       "      <th>Amount</th>\n",
       "      <th>Category</th>\n",
       "      <th>Date</th>\n",
       "      <th>Event</th>\n",
       "    </tr>\n",
       "  </thead>\n",
       "  <tbody>\n",
       "    <tr>\n",
       "      <th>0</th>\n",
       "      <td>-5200</td>\n",
       "      <td>Gifts &amp; Donations</td>\n",
       "      <td>2022-09-09</td>\n",
       "      <td>No</td>\n",
       "    </tr>\n",
       "    <tr>\n",
       "      <th>1</th>\n",
       "      <td>-600</td>\n",
       "      <td>Insurances</td>\n",
       "      <td>2022-09-09</td>\n",
       "      <td>No</td>\n",
       "    </tr>\n",
       "    <tr>\n",
       "      <th>2</th>\n",
       "      <td>-2300</td>\n",
       "      <td>Clothing</td>\n",
       "      <td>2022-09-09</td>\n",
       "      <td>No</td>\n",
       "    </tr>\n",
       "    <tr>\n",
       "      <th>3</th>\n",
       "      <td>-70</td>\n",
       "      <td>Food &amp; Beverage</td>\n",
       "      <td>2022-09-08</td>\n",
       "      <td>No</td>\n",
       "    </tr>\n",
       "    <tr>\n",
       "      <th>4</th>\n",
       "      <td>-210</td>\n",
       "      <td>Phone Bill</td>\n",
       "      <td>2022-09-05</td>\n",
       "      <td>No</td>\n",
       "    </tr>\n",
       "  </tbody>\n",
       "</table>\n",
       "</div>"
      ],
      "text/plain": [
       "   Amount           Category       Date Event\n",
       "0   -5200  Gifts & Donations 2022-09-09    No\n",
       "1    -600         Insurances 2022-09-09    No\n",
       "2   -2300           Clothing 2022-09-09    No\n",
       "3     -70    Food & Beverage 2022-09-08    No\n",
       "4    -210         Phone Bill 2022-09-05    No"
      ]
     },
     "execution_count": 329,
     "metadata": {},
     "output_type": "execute_result"
    }
   ],
   "source": [
    "df.head()"
   ]
  },
  {
   "cell_type": "code",
   "execution_count": 259,
   "id": "3736af87",
   "metadata": {
    "scrolled": true
   },
   "outputs": [
    {
     "name": "stdout",
     "output_type": "stream",
     "text": [
      "Category ['Gifts & Donations' 'Insurances' 'Clothing' 'Food & Beverage'\n",
      " 'Phone Bill' 'Petrol' 'PPF' 'Baba' 'SIP' 'Family' 'Electronics' 'Salary'\n",
      " 'Zomato' 'Gifts' 'Internet Bill' 'Loan' 'Protein' 'Television Bill'\n",
      " 'Restaurants' 'Flight' 'Transportation' 'Health & Fitness' 'Education'\n",
      " 'Dividend' 'Pharmacy' 'Café' 'Home Improvement' 'Other Expense'\n",
      " 'Personal Care' 'Bills & Utilities' 'Taxi' 'Sports' 'Maintenance'\n",
      " 'Doctor' 'Repayment' 'Other Income' 'Groceries' 'Withdrawal' 'Investment'\n",
      " 'Debt' 'Home Expenses' 'Shopping' 'Debt Collection' 'Travel' 'Books'\n",
      " 'Electricity Bill' 'Fees & Charges' 'Self' 'Parking Fees' 'Charity'\n",
      " 'Footwear' 'Accessories' 'Games' 'Selling' 'Interest Money' 'Rentals'\n",
      " 'J1' 'Movies' 'Entertainment' 'Friends & Lover' 'Given' 'Gas Bill']\n"
     ]
    }
   ],
   "source": [
    "category = df[\"Category\"].unique()\n",
    "print(\"Category\", category)"
   ]
  },
  {
   "cell_type": "code",
   "execution_count": 334,
   "id": "a0148d65",
   "metadata": {},
   "outputs": [
    {
     "ename": "NameError",
     "evalue": "name 'y' is not defined",
     "output_type": "error",
     "traceback": [
      "\u001b[1;31m---------------------------------------------------------------------------\u001b[0m",
      "\u001b[1;31mNameError\u001b[0m                                 Traceback (most recent call last)",
      "Input \u001b[1;32mIn [334]\u001b[0m, in \u001b[0;36m<cell line: 3>\u001b[1;34m()\u001b[0m\n\u001b[0;32m      1\u001b[0m fig, ax \u001b[38;5;241m=\u001b[39m plt\u001b[38;5;241m.\u001b[39msubplots(figsize\u001b[38;5;241m=\u001b[39m(\u001b[38;5;241m15\u001b[39m, \u001b[38;5;241m6\u001b[39m))\n\u001b[1;32m----> 3\u001b[0m plot_acf(\u001b[43my\u001b[49m, ax\u001b[38;5;241m=\u001b[39max)\n\u001b[0;32m      5\u001b[0m plt\u001b[38;5;241m.\u001b[39mxlabel(\u001b[38;5;124m\"\u001b[39m\u001b[38;5;124mLag [hours]\u001b[39m\u001b[38;5;124m\"\u001b[39m)\n\u001b[0;32m      6\u001b[0m plt\u001b[38;5;241m.\u001b[39mylabel(\u001b[38;5;124m\"\u001b[39m\u001b[38;5;124mCorrelation Coefficient\u001b[39m\u001b[38;5;124m\"\u001b[39m)\n",
      "\u001b[1;31mNameError\u001b[0m: name 'y' is not defined"
     ]
    },
    {
     "data": {
      "image/png": "[encoded data removed]",
      "text/plain": [
       "<Figure size 1080x432 with 1 Axes>"
      ]
     },
     "metadata": {
      "needs_background": "light"
     },
     "output_type": "display_data"
    }
   ],
   "source": []
  },
  {
   "cell_type": "code",
   "execution_count": 313,
   "id": "a64026c1",
   "metadata": {},
   "outputs": [],
   "source": [
    "top_10 = df[\"Category\"].value_counts().head(11).index"
   ]
  },
  {
   "cell_type": "code",
   "execution_count": 314,
   "id": "5f2775cc",
   "metadata": {},
   "outputs": [],
   "source": [
    "df[\"Category\"] = df[\"Category\"].apply(lambda x: x if x in top_10 else \"Other\")"
   ]
  },
  {
   "cell_type": "code",
   "execution_count": 309,
   "id": "5b62a619",
   "metadata": {},
   "outputs": [],
   "source": [
    "top_2 = df[\"Account\"].value_counts().head(1).index\n",
    "df[\"Account\"] = df[\"Account\"].apply(lambda x: x if x in top_2 else \"Salary Account\")"
   ]
  },
  {
   "cell_type": "code",
   "execution_count": 310,
   "id": "be5c3501",
   "metadata": {},
   "outputs": [
    {
     "data": {
      "text/plain": [
       "Salary Account    2683\n",
       "Name: Account, dtype: int64"
      ]
     },
     "execution_count": 310,
     "metadata": {},
     "output_type": "execute_result"
    }
   ],
   "source": [
    "df[\"Account\"].value_counts()"
   ]
  },
  {
   "cell_type": "code",
   "execution_count": 317,
   "id": "5e3fcb8c",
   "metadata": {},
   "outputs": [],
   "source": [
    "cat_value_coutn = df[\"Category\"].value_counts()"
   ]
  },
  {
   "cell_type": "code",
   "execution_count": 318,
   "id": "857b9cbf",
   "metadata": {},
   "outputs": [
    {
     "data": {
      "image/png": "[encoded data removed]",
      "text/plain": [
       "<Figure size 864x864 with 1 Axes>"
      ]
     },
     "metadata": {
      "needs_background": "light"
     },
     "output_type": "display_data"
    }
   ],
   "source": [
    "cat_value_coutn.plot(kind=\"barh\", figsize=(12,12))\n",
    "plt.xlabel(\"Frequency (count)\")\n",
    "plt.ylabel(\"Categories\")\n",
    "plt.title(\"Expenses: Category\");"
   ]
  },
  {
   "cell_type": "code",
   "execution_count": 323,
   "id": "50c155c3",
   "metadata": {},
   "outputs": [
    {
     "ename": "TypeError",
     "evalue": "no numeric data to plot",
     "output_type": "error",
     "traceback": [
      "\u001b[1;31m---------------------------------------------------------------------------\u001b[0m",
      "\u001b[1;31mTypeError\u001b[0m                                 Traceback (most recent call last)",
      "Input \u001b[1;32mIn [323]\u001b[0m, in \u001b[0;36m<cell line: 2>\u001b[1;34m()\u001b[0m\n\u001b[0;32m      1\u001b[0m fig, ax \u001b[38;5;241m=\u001b[39m plt\u001b[38;5;241m.\u001b[39msubplots(figsize\u001b[38;5;241m=\u001b[39m(\u001b[38;5;241m15\u001b[39m, \u001b[38;5;241m6\u001b[39m))\n\u001b[1;32m----> 2\u001b[0m \u001b[43mdf\u001b[49m\u001b[43m[\u001b[49m\u001b[38;5;124;43m\"\u001b[39;49m\u001b[38;5;124;43mCategory\u001b[39;49m\u001b[38;5;124;43m\"\u001b[39;49m\u001b[43m]\u001b[49m\u001b[38;5;241;43m.\u001b[39;49m\u001b[43mplot\u001b[49m\u001b[43m(\u001b[49m\u001b[43max\u001b[49m\u001b[38;5;241;43m=\u001b[39;49m\u001b[43max\u001b[49m\u001b[43m)\u001b[49m\n",
      "File \u001b[1;32m~\\anaconda3\\lib\\site-packages\\pandas\\plotting\\_core.py:972\u001b[0m, in \u001b[0;36mPlotAccessor.__call__\u001b[1;34m(self, *args, **kwargs)\u001b[0m\n\u001b[0;32m    969\u001b[0m             label_name \u001b[38;5;241m=\u001b[39m label_kw \u001b[38;5;129;01mor\u001b[39;00m data\u001b[38;5;241m.\u001b[39mcolumns\n\u001b[0;32m    970\u001b[0m             data\u001b[38;5;241m.\u001b[39mcolumns \u001b[38;5;241m=\u001b[39m label_name\n\u001b[1;32m--> 972\u001b[0m \u001b[38;5;28;01mreturn\u001b[39;00m plot_backend\u001b[38;5;241m.\u001b[39mplot(data, kind\u001b[38;5;241m=\u001b[39mkind, \u001b[38;5;241m*\u001b[39m\u001b[38;5;241m*\u001b[39mkwargs)\n",
      "File \u001b[1;32m~\\anaconda3\\lib\\site-packages\\pandas\\plotting\\_matplotlib\\__init__.py:71\u001b[0m, in \u001b[0;36mplot\u001b[1;34m(data, kind, **kwargs)\u001b[0m\n\u001b[0;32m     69\u001b[0m         kwargs[\u001b[38;5;124m\"\u001b[39m\u001b[38;5;124max\u001b[39m\u001b[38;5;124m\"\u001b[39m] \u001b[38;5;241m=\u001b[39m \u001b[38;5;28mgetattr\u001b[39m(ax, \u001b[38;5;124m\"\u001b[39m\u001b[38;5;124mleft_ax\u001b[39m\u001b[38;5;124m\"\u001b[39m, ax)\n\u001b[0;32m     70\u001b[0m plot_obj \u001b[38;5;241m=\u001b[39m PLOT_CLASSES[kind](data, \u001b[38;5;241m*\u001b[39m\u001b[38;5;241m*\u001b[39mkwargs)\n\u001b[1;32m---> 71\u001b[0m \u001b[43mplot_obj\u001b[49m\u001b[38;5;241;43m.\u001b[39;49m\u001b[43mgenerate\u001b[49m\u001b[43m(\u001b[49m\u001b[43m)\u001b[49m\n\u001b[0;32m     72\u001b[0m plot_obj\u001b[38;5;241m.\u001b[39mdraw()\n\u001b[0;32m     73\u001b[0m \u001b[38;5;28;01mreturn\u001b[39;00m plot_obj\u001b[38;5;241m.\u001b[39mresult\n",
      "File \u001b[1;32m~\\anaconda3\\lib\\site-packages\\pandas\\plotting\\_matplotlib\\core.py:327\u001b[0m, in \u001b[0;36mMPLPlot.generate\u001b[1;34m(self)\u001b[0m\n\u001b[0;32m    325\u001b[0m \u001b[38;5;28;01mdef\u001b[39;00m \u001b[38;5;21mgenerate\u001b[39m(\u001b[38;5;28mself\u001b[39m):\n\u001b[0;32m    326\u001b[0m     \u001b[38;5;28mself\u001b[39m\u001b[38;5;241m.\u001b[39m_args_adjust()\n\u001b[1;32m--> 327\u001b[0m     \u001b[38;5;28;43mself\u001b[39;49m\u001b[38;5;241;43m.\u001b[39;49m\u001b[43m_compute_plot_data\u001b[49m\u001b[43m(\u001b[49m\u001b[43m)\u001b[49m\n\u001b[0;32m    328\u001b[0m     \u001b[38;5;28mself\u001b[39m\u001b[38;5;241m.\u001b[39m_setup_subplots()\n\u001b[0;32m    329\u001b[0m     \u001b[38;5;28mself\u001b[39m\u001b[38;5;241m.\u001b[39m_make_plot()\n",
      "File \u001b[1;32m~\\anaconda3\\lib\\site-packages\\pandas\\plotting\\_matplotlib\\core.py:506\u001b[0m, in \u001b[0;36mMPLPlot._compute_plot_data\u001b[1;34m(self)\u001b[0m\n\u001b[0;32m    504\u001b[0m \u001b[38;5;66;03m# no non-numeric frames or series allowed\u001b[39;00m\n\u001b[0;32m    505\u001b[0m \u001b[38;5;28;01mif\u001b[39;00m is_empty:\n\u001b[1;32m--> 506\u001b[0m     \u001b[38;5;28;01mraise\u001b[39;00m \u001b[38;5;167;01mTypeError\u001b[39;00m(\u001b[38;5;124m\"\u001b[39m\u001b[38;5;124mno numeric data to plot\u001b[39m\u001b[38;5;124m\"\u001b[39m)\n\u001b[0;32m    508\u001b[0m \u001b[38;5;28mself\u001b[39m\u001b[38;5;241m.\u001b[39mdata \u001b[38;5;241m=\u001b[39m numeric_data\u001b[38;5;241m.\u001b[39mapply(\u001b[38;5;28mself\u001b[39m\u001b[38;5;241m.\u001b[39m_convert_to_ndarray)\n",
      "\u001b[1;31mTypeError\u001b[0m: no numeric data to plot"
     ]
    },
    {
     "data": {
      "image/png": "[encoded data removed]",
      "text/plain": [
       "<Figure size 1080x432 with 1 Axes>"
      ]
     },
     "metadata": {
      "needs_background": "light"
     },
     "output_type": "display_data"
    }
   ],
   "source": [
    "fig, ax = plt.subplots(figsize=(15, 6))\n",
    "df[\"Category\"].plot(ax=ax);"
   ]
  },
  {
   "cell_type": "code",
   "execution_count": 301,
   "id": "5e861ec0",
   "metadata": {
    "scrolled": true
   },
   "outputs": [
    {
     "data": {
      "text/html": [
       "<div>\n",
       "<style scoped>\n",
       "    .dataframe tbody tr th:only-of-type {\n",
       "        vertical-align: middle;\n",
       "    }\n",
       "\n",
       "    .dataframe tbody tr th {\n",
       "        vertical-align: top;\n",
       "    }\n",
       "\n",
       "    .dataframe thead th {\n",
       "        text-align: right;\n",
       "    }\n",
       "</style>\n",
       "<table border=\"1\" class=\"dataframe\">\n",
       "  <thead>\n",
       "    <tr style=\"text-align: right;\">\n",
       "      <th></th>\n",
       "      <th></th>\n",
       "      <th></th>\n",
       "      <th></th>\n",
       "      <th></th>\n",
       "      <th></th>\n",
       "      <th>frequency</th>\n",
       "    </tr>\n",
       "    <tr>\n",
       "      <th>Category</th>\n",
       "      <th>Amount</th>\n",
       "      <th>Account</th>\n",
       "      <th>Currency</th>\n",
       "      <th>Date</th>\n",
       "      <th>Event</th>\n",
       "      <th></th>\n",
       "    </tr>\n",
       "  </thead>\n",
       "  <tbody>\n",
       "    <tr>\n",
       "      <th rowspan=\"6\" valign=\"top\">Accessories</th>\n",
       "      <th>-350</th>\n",
       "      <th>Salary Account</th>\n",
       "      <th>INR</th>\n",
       "      <th>2021-07-30</th>\n",
       "      <th>No</th>\n",
       "      <td>0.166667</td>\n",
       "    </tr>\n",
       "    <tr>\n",
       "      <th>-300</th>\n",
       "      <th>Cash</th>\n",
       "      <th>INR</th>\n",
       "      <th>2018-01-06</th>\n",
       "      <th>No</th>\n",
       "      <td>0.166667</td>\n",
       "    </tr>\n",
       "    <tr>\n",
       "      <th>-50</th>\n",
       "      <th>Cash</th>\n",
       "      <th>INR</th>\n",
       "      <th>2017-10-24</th>\n",
       "      <th>No</th>\n",
       "      <td>0.166667</td>\n",
       "    </tr>\n",
       "    <tr>\n",
       "      <th>-250</th>\n",
       "      <th>Salary Account</th>\n",
       "      <th>INR</th>\n",
       "      <th>2020-09-11</th>\n",
       "      <th>No</th>\n",
       "      <td>0.166667</td>\n",
       "    </tr>\n",
       "    <tr>\n",
       "      <th>-230</th>\n",
       "      <th>Cash</th>\n",
       "      <th>INR</th>\n",
       "      <th>2017-05-17</th>\n",
       "      <th>No</th>\n",
       "      <td>0.166667</td>\n",
       "    </tr>\n",
       "    <tr>\n",
       "      <th>-150</th>\n",
       "      <th>Salary Account</th>\n",
       "      <th>INR</th>\n",
       "      <th>2020-09-14</th>\n",
       "      <th>No</th>\n",
       "      <td>0.166667</td>\n",
       "    </tr>\n",
       "    <tr>\n",
       "      <th rowspan=\"44\" valign=\"top\">Baba</th>\n",
       "      <th rowspan=\"6\" valign=\"top\">2000</th>\n",
       "      <th rowspan=\"6\" valign=\"top\">Cash</th>\n",
       "      <th rowspan=\"6\" valign=\"top\">INR</th>\n",
       "      <th>2017-08-01</th>\n",
       "      <th>No</th>\n",
       "      <td>0.009259</td>\n",
       "    </tr>\n",
       "    <tr>\n",
       "      <th>2017-10-13</th>\n",
       "      <th>No</th>\n",
       "      <td>0.009259</td>\n",
       "    </tr>\n",
       "    <tr>\n",
       "      <th>2017-10-31</th>\n",
       "      <th>No</th>\n",
       "      <td>0.009259</td>\n",
       "    </tr>\n",
       "    <tr>\n",
       "      <th>2018-03-23</th>\n",
       "      <th>No</th>\n",
       "      <td>0.009259</td>\n",
       "    </tr>\n",
       "    <tr>\n",
       "      <th>2018-04-08</th>\n",
       "      <th>No</th>\n",
       "      <td>0.009259</td>\n",
       "    </tr>\n",
       "    <tr>\n",
       "      <th>2018-04-27</th>\n",
       "      <th>No</th>\n",
       "      <td>0.009259</td>\n",
       "    </tr>\n",
       "    <tr>\n",
       "      <th>3000</th>\n",
       "      <th>Cash</th>\n",
       "      <th>INR</th>\n",
       "      <th>2017-03-17</th>\n",
       "      <th>No</th>\n",
       "      <td>0.009259</td>\n",
       "    </tr>\n",
       "    <tr>\n",
       "      <th rowspan=\"2\" valign=\"top\">2000</th>\n",
       "      <th rowspan=\"2\" valign=\"top\">Cash</th>\n",
       "      <th rowspan=\"2\" valign=\"top\">INR</th>\n",
       "      <th>2017-09-16</th>\n",
       "      <th>No</th>\n",
       "      <td>0.009259</td>\n",
       "    </tr>\n",
       "    <tr>\n",
       "      <th>2017-08-16</th>\n",
       "      <th>No</th>\n",
       "      <td>0.009259</td>\n",
       "    </tr>\n",
       "    <tr>\n",
       "      <th>-5000</th>\n",
       "      <th>Salary Account</th>\n",
       "      <th>INR</th>\n",
       "      <th>2020-07-30</th>\n",
       "      <th>No</th>\n",
       "      <td>0.009259</td>\n",
       "    </tr>\n",
       "    <tr>\n",
       "      <th>2000</th>\n",
       "      <th>Cash</th>\n",
       "      <th>INR</th>\n",
       "      <th>2018-11-19</th>\n",
       "      <th>No</th>\n",
       "      <td>0.009259</td>\n",
       "    </tr>\n",
       "    <tr>\n",
       "      <th>-5000</th>\n",
       "      <th>Salary Account</th>\n",
       "      <th>INR</th>\n",
       "      <th>2022-06-01</th>\n",
       "      <th>No</th>\n",
       "      <td>0.009259</td>\n",
       "    </tr>\n",
       "    <tr>\n",
       "      <th>2000</th>\n",
       "      <th>Cash</th>\n",
       "      <th>INR</th>\n",
       "      <th>2016-12-21</th>\n",
       "      <th>No</th>\n",
       "      <td>0.009259</td>\n",
       "    </tr>\n",
       "    <tr>\n",
       "      <th>5000</th>\n",
       "      <th>Cash</th>\n",
       "      <th>INR</th>\n",
       "      <th>2018-12-06</th>\n",
       "      <th>No</th>\n",
       "      <td>0.009259</td>\n",
       "    </tr>\n",
       "    <tr>\n",
       "      <th rowspan=\"3\" valign=\"top\">6000</th>\n",
       "      <th rowspan=\"3\" valign=\"top\">Cash</th>\n",
       "      <th rowspan=\"3\" valign=\"top\">INR</th>\n",
       "      <th>2018-01-02</th>\n",
       "      <th>No</th>\n",
       "      <td>0.009259</td>\n",
       "    </tr>\n",
       "    <tr>\n",
       "      <th>2018-06-23</th>\n",
       "      <th>No</th>\n",
       "      <td>0.009259</td>\n",
       "    </tr>\n",
       "    <tr>\n",
       "      <th>2018-09-01</th>\n",
       "      <th>No</th>\n",
       "      <td>0.009259</td>\n",
       "    </tr>\n",
       "    <tr>\n",
       "      <th>7000</th>\n",
       "      <th>Cash</th>\n",
       "      <th>INR</th>\n",
       "      <th>2017-02-11</th>\n",
       "      <th>No</th>\n",
       "      <td>0.009259</td>\n",
       "    </tr>\n",
       "    <tr>\n",
       "      <th>8000</th>\n",
       "      <th>Cash</th>\n",
       "      <th>INR</th>\n",
       "      <th>2017-05-05</th>\n",
       "      <th>No</th>\n",
       "      <td>0.009259</td>\n",
       "    </tr>\n",
       "    <tr>\n",
       "      <th>10000</th>\n",
       "      <th>Cash</th>\n",
       "      <th>INR</th>\n",
       "      <th>2018-07-01</th>\n",
       "      <th>No</th>\n",
       "      <td>0.009259</td>\n",
       "    </tr>\n",
       "    <tr>\n",
       "      <th>3000</th>\n",
       "      <th>Cash</th>\n",
       "      <th>INR</th>\n",
       "      <th>2017-04-03</th>\n",
       "      <th>No</th>\n",
       "      <td>0.009259</td>\n",
       "    </tr>\n",
       "    <tr>\n",
       "      <th rowspan=\"6\" valign=\"top\">500</th>\n",
       "      <th rowspan=\"6\" valign=\"top\">Cash</th>\n",
       "      <th rowspan=\"6\" valign=\"top\">INR</th>\n",
       "      <th>2018-05-24</th>\n",
       "      <th>No</th>\n",
       "      <td>0.009259</td>\n",
       "    </tr>\n",
       "    <tr>\n",
       "      <th>2017-11-16</th>\n",
       "      <th>No</th>\n",
       "      <td>0.009259</td>\n",
       "    </tr>\n",
       "    <tr>\n",
       "      <th>2017-09-01</th>\n",
       "      <th>No</th>\n",
       "      <td>0.009259</td>\n",
       "    </tr>\n",
       "    <tr>\n",
       "      <th>2017-02-13</th>\n",
       "      <th>No</th>\n",
       "      <td>0.009259</td>\n",
       "    </tr>\n",
       "    <tr>\n",
       "      <th>2016-12-19</th>\n",
       "      <th>No</th>\n",
       "      <td>0.009259</td>\n",
       "    </tr>\n",
       "    <tr>\n",
       "      <th>2016-11-26</th>\n",
       "      <th>No</th>\n",
       "      <td>0.009259</td>\n",
       "    </tr>\n",
       "    <tr>\n",
       "      <th>400</th>\n",
       "      <th>Cash</th>\n",
       "      <th>INR</th>\n",
       "      <th>2017-03-09</th>\n",
       "      <th>No</th>\n",
       "      <td>0.009259</td>\n",
       "    </tr>\n",
       "    <tr>\n",
       "      <th>300</th>\n",
       "      <th>Cash</th>\n",
       "      <th>INR</th>\n",
       "      <th>2017-11-15</th>\n",
       "      <th>No</th>\n",
       "      <td>0.009259</td>\n",
       "    </tr>\n",
       "    <tr>\n",
       "      <th rowspan=\"2\" valign=\"top\">-5000</th>\n",
       "      <th rowspan=\"2\" valign=\"top\">Salary Account</th>\n",
       "      <th rowspan=\"2\" valign=\"top\">INR</th>\n",
       "      <th>2022-09-01</th>\n",
       "      <th>No</th>\n",
       "      <td>0.009259</td>\n",
       "    </tr>\n",
       "    <tr>\n",
       "      <th>2022-08-01</th>\n",
       "      <th>No</th>\n",
       "      <td>0.009259</td>\n",
       "    </tr>\n",
       "    <tr>\n",
       "      <th>500</th>\n",
       "      <th>Cash</th>\n",
       "      <th>INR</th>\n",
       "      <th>2018-11-08</th>\n",
       "      <th>No</th>\n",
       "      <td>0.009259</td>\n",
       "    </tr>\n",
       "    <tr>\n",
       "      <th>700</th>\n",
       "      <th>Cash</th>\n",
       "      <th>INR</th>\n",
       "      <th>2017-02-26</th>\n",
       "      <th>No</th>\n",
       "      <td>0.009259</td>\n",
       "    </tr>\n",
       "    <tr>\n",
       "      <th rowspan=\"2\" valign=\"top\">1000</th>\n",
       "      <th rowspan=\"2\" valign=\"top\">Cash</th>\n",
       "      <th rowspan=\"2\" valign=\"top\">INR</th>\n",
       "      <th>2016-11-21</th>\n",
       "      <th>No</th>\n",
       "      <td>0.009259</td>\n",
       "    </tr>\n",
       "    <tr>\n",
       "      <th>2017-12-30</th>\n",
       "      <th>No</th>\n",
       "      <td>0.009259</td>\n",
       "    </tr>\n",
       "    <tr>\n",
       "      <th rowspan=\"2\" valign=\"top\">1500</th>\n",
       "      <th rowspan=\"2\" valign=\"top\">Cash</th>\n",
       "      <th rowspan=\"2\" valign=\"top\">INR</th>\n",
       "      <th>2017-11-22</th>\n",
       "      <th>No</th>\n",
       "      <td>0.009259</td>\n",
       "    </tr>\n",
       "    <tr>\n",
       "      <th>2017-08-28</th>\n",
       "      <th>No</th>\n",
       "      <td>0.009259</td>\n",
       "    </tr>\n",
       "    <tr>\n",
       "      <th>2000</th>\n",
       "      <th>Cash</th>\n",
       "      <th>INR</th>\n",
       "      <th>2016-11-09</th>\n",
       "      <th>No</th>\n",
       "      <td>0.009259</td>\n",
       "    </tr>\n",
       "    <tr>\n",
       "      <th rowspan=\"3\" valign=\"top\">1500</th>\n",
       "      <th rowspan=\"3\" valign=\"top\">Cash</th>\n",
       "      <th rowspan=\"3\" valign=\"top\">INR</th>\n",
       "      <th>2017-02-14</th>\n",
       "      <th>No</th>\n",
       "      <td>0.009259</td>\n",
       "    </tr>\n",
       "    <tr>\n",
       "      <th>2017-01-19</th>\n",
       "      <th>No</th>\n",
       "      <td>0.009259</td>\n",
       "    </tr>\n",
       "    <tr>\n",
       "      <th>2017-01-13</th>\n",
       "      <th>No</th>\n",
       "      <td>0.009259</td>\n",
       "    </tr>\n",
       "    <tr>\n",
       "      <th>1400</th>\n",
       "      <th>Cash</th>\n",
       "      <th>INR</th>\n",
       "      <th>2016-11-04</th>\n",
       "      <th>No</th>\n",
       "      <td>0.009259</td>\n",
       "    </tr>\n",
       "    <tr>\n",
       "      <th rowspan=\"2\" valign=\"top\">1000</th>\n",
       "      <th rowspan=\"2\" valign=\"top\">Cash</th>\n",
       "      <th rowspan=\"2\" valign=\"top\">INR</th>\n",
       "      <th>2018-01-20</th>\n",
       "      <th>No</th>\n",
       "      <td>0.009259</td>\n",
       "    </tr>\n",
       "    <tr>\n",
       "      <th>2017-10-22</th>\n",
       "      <th>No</th>\n",
       "      <td>0.009259</td>\n",
       "    </tr>\n",
       "  </tbody>\n",
       "</table>\n",
       "</div>"
      ],
      "text/plain": [
       "                                                             frequency\n",
       "Category    Amount Account        Currency Date       Event           \n",
       "Accessories -350   Salary Account INR      2021-07-30 No      0.166667\n",
       "            -300   Cash           INR      2018-01-06 No      0.166667\n",
       "            -50    Cash           INR      2017-10-24 No      0.166667\n",
       "            -250   Salary Account INR      2020-09-11 No      0.166667\n",
       "            -230   Cash           INR      2017-05-17 No      0.166667\n",
       "            -150   Salary Account INR      2020-09-14 No      0.166667\n",
       "Baba         2000  Cash           INR      2017-08-01 No      0.009259\n",
       "                                           2017-10-13 No      0.009259\n",
       "                                           2017-10-31 No      0.009259\n",
       "                                           2018-03-23 No      0.009259\n",
       "                                           2018-04-08 No      0.009259\n",
       "                                           2018-04-27 No      0.009259\n",
       "             3000  Cash           INR      2017-03-17 No      0.009259\n",
       "             2000  Cash           INR      2017-09-16 No      0.009259\n",
       "                                           2017-08-16 No      0.009259\n",
       "            -5000  Salary Account INR      2020-07-30 No      0.009259\n",
       "             2000  Cash           INR      2018-11-19 No      0.009259\n",
       "            -5000  Salary Account INR      2022-06-01 No      0.009259\n",
       "             2000  Cash           INR      2016-12-21 No      0.009259\n",
       "             5000  Cash           INR      2018-12-06 No      0.009259\n",
       "             6000  Cash           INR      2018-01-02 No      0.009259\n",
       "                                           2018-06-23 No      0.009259\n",
       "                                           2018-09-01 No      0.009259\n",
       "             7000  Cash           INR      2017-02-11 No      0.009259\n",
       "             8000  Cash           INR      2017-05-05 No      0.009259\n",
       "             10000 Cash           INR      2018-07-01 No      0.009259\n",
       "             3000  Cash           INR      2017-04-03 No      0.009259\n",
       "             500   Cash           INR      2018-05-24 No      0.009259\n",
       "                                           2017-11-16 No      0.009259\n",
       "                                           2017-09-01 No      0.009259\n",
       "                                           2017-02-13 No      0.009259\n",
       "                                           2016-12-19 No      0.009259\n",
       "                                           2016-11-26 No      0.009259\n",
       "             400   Cash           INR      2017-03-09 No      0.009259\n",
       "             300   Cash           INR      2017-11-15 No      0.009259\n",
       "            -5000  Salary Account INR      2022-09-01 No      0.009259\n",
       "                                           2022-08-01 No      0.009259\n",
       "             500   Cash           INR      2018-11-08 No      0.009259\n",
       "             700   Cash           INR      2017-02-26 No      0.009259\n",
       "             1000  Cash           INR      2016-11-21 No      0.009259\n",
       "                                           2017-12-30 No      0.009259\n",
       "             1500  Cash           INR      2017-11-22 No      0.009259\n",
       "                                           2017-08-28 No      0.009259\n",
       "             2000  Cash           INR      2016-11-09 No      0.009259\n",
       "             1500  Cash           INR      2017-02-14 No      0.009259\n",
       "                                           2017-01-19 No      0.009259\n",
       "                                           2017-01-13 No      0.009259\n",
       "             1400  Cash           INR      2016-11-04 No      0.009259\n",
       "             1000  Cash           INR      2018-01-20 No      0.009259\n",
       "                                           2017-10-22 No      0.009259"
      ]
     },
     "execution_count": 301,
     "metadata": {},
     "output_type": "execute_result"
    }
   ],
   "source": [
    "df_cat = df.groupby(['Category']).value_counts(normalize=True).rename(\"frequency\").to_frame()\n",
    "df_cat.head(50)"
   ]
  },
  {
   "cell_type": "code",
   "execution_count": 299,
   "id": "4c7ba536",
   "metadata": {},
   "outputs": [
    {
     "ename": "ValueError",
     "evalue": "Could not interpret input 'Category'",
     "output_type": "error",
     "traceback": [
      "\u001b[1;31m---------------------------------------------------------------------------\u001b[0m",
      "\u001b[1;31mValueError\u001b[0m                                Traceback (most recent call last)",
      "Input \u001b[1;32mIn [299]\u001b[0m, in \u001b[0;36m<cell line: 2>\u001b[1;34m()\u001b[0m\n\u001b[0;32m      1\u001b[0m \u001b[38;5;66;03m# Create bar chart of `df_inccat`\u001b[39;00m\n\u001b[1;32m----> 2\u001b[0m \u001b[43msns\u001b[49m\u001b[38;5;241;43m.\u001b[39;49m\u001b[43mbarplot\u001b[49m\u001b[43m(\u001b[49m\n\u001b[0;32m      3\u001b[0m \u001b[43m    \u001b[49m\u001b[43mx\u001b[49m\u001b[38;5;241;43m=\u001b[39;49m\u001b[38;5;124;43m\"\u001b[39;49m\u001b[38;5;124;43mCategory\u001b[39;49m\u001b[38;5;124;43m\"\u001b[39;49m\u001b[43m,\u001b[49m\n\u001b[0;32m      4\u001b[0m \u001b[43m    \u001b[49m\u001b[43my\u001b[49m\u001b[38;5;241;43m=\u001b[39;49m\u001b[38;5;124;43m\"\u001b[39;49m\u001b[38;5;124;43mfrequency\u001b[39;49m\u001b[38;5;124;43m\"\u001b[39;49m\u001b[43m,\u001b[49m\n\u001b[0;32m      5\u001b[0m \u001b[43m    \u001b[49m\u001b[43mdata\u001b[49m\u001b[38;5;241;43m=\u001b[39;49m\u001b[43mdf_cat\u001b[49m\n\u001b[0;32m      6\u001b[0m \u001b[43m    \u001b[49m\u001b[38;5;66;43;03m#order=inccat_dict.values()\u001b[39;49;00m\n\u001b[0;32m      7\u001b[0m \u001b[43m)\u001b[49m\n\u001b[0;32m      8\u001b[0m plt\u001b[38;5;241m.\u001b[39mxlabel(\u001b[38;5;124m\"\u001b[39m\u001b[38;5;124mIncome Category\u001b[39m\u001b[38;5;124m\"\u001b[39m)\n\u001b[0;32m      9\u001b[0m plt\u001b[38;5;241m.\u001b[39mylabel(\u001b[38;5;124m\"\u001b[39m\u001b[38;5;124mFrequency (\u001b[39m\u001b[38;5;124m%\u001b[39m\u001b[38;5;124m)\u001b[39m\u001b[38;5;124m\"\u001b[39m)\n",
      "File \u001b[1;32m~\\anaconda3\\lib\\site-packages\\seaborn\\_decorators.py:46\u001b[0m, in \u001b[0;36m_deprecate_positional_args.<locals>.inner_f\u001b[1;34m(*args, **kwargs)\u001b[0m\n\u001b[0;32m     36\u001b[0m     warnings\u001b[38;5;241m.\u001b[39mwarn(\n\u001b[0;32m     37\u001b[0m         \u001b[38;5;124m\"\u001b[39m\u001b[38;5;124mPass the following variable\u001b[39m\u001b[38;5;132;01m{}\u001b[39;00m\u001b[38;5;124m as \u001b[39m\u001b[38;5;132;01m{}\u001b[39;00m\u001b[38;5;124mkeyword arg\u001b[39m\u001b[38;5;132;01m{}\u001b[39;00m\u001b[38;5;124m: \u001b[39m\u001b[38;5;132;01m{}\u001b[39;00m\u001b[38;5;124m. \u001b[39m\u001b[38;5;124m\"\u001b[39m\n\u001b[0;32m     38\u001b[0m         \u001b[38;5;124m\"\u001b[39m\u001b[38;5;124mFrom version 0.12, the only valid positional argument \u001b[39m\u001b[38;5;124m\"\u001b[39m\n\u001b[1;32m   (...)\u001b[0m\n\u001b[0;32m     43\u001b[0m         \u001b[38;5;167;01mFutureWarning\u001b[39;00m\n\u001b[0;32m     44\u001b[0m     )\n\u001b[0;32m     45\u001b[0m kwargs\u001b[38;5;241m.\u001b[39mupdate({k: arg \u001b[38;5;28;01mfor\u001b[39;00m k, arg \u001b[38;5;129;01min\u001b[39;00m \u001b[38;5;28mzip\u001b[39m(sig\u001b[38;5;241m.\u001b[39mparameters, args)})\n\u001b[1;32m---> 46\u001b[0m \u001b[38;5;28;01mreturn\u001b[39;00m f(\u001b[38;5;241m*\u001b[39m\u001b[38;5;241m*\u001b[39mkwargs)\n",
      "File \u001b[1;32m~\\anaconda3\\lib\\site-packages\\seaborn\\categorical.py:3182\u001b[0m, in \u001b[0;36mbarplot\u001b[1;34m(x, y, hue, data, order, hue_order, estimator, ci, n_boot, units, seed, orient, color, palette, saturation, errcolor, errwidth, capsize, dodge, ax, **kwargs)\u001b[0m\n\u001b[0;32m   3169\u001b[0m \u001b[38;5;129m@_deprecate_positional_args\u001b[39m\n\u001b[0;32m   3170\u001b[0m \u001b[38;5;28;01mdef\u001b[39;00m \u001b[38;5;21mbarplot\u001b[39m(\n\u001b[0;32m   3171\u001b[0m     \u001b[38;5;241m*\u001b[39m,\n\u001b[1;32m   (...)\u001b[0m\n\u001b[0;32m   3179\u001b[0m     \u001b[38;5;241m*\u001b[39m\u001b[38;5;241m*\u001b[39mkwargs,\n\u001b[0;32m   3180\u001b[0m ):\n\u001b[1;32m-> 3182\u001b[0m     plotter \u001b[38;5;241m=\u001b[39m \u001b[43m_BarPlotter\u001b[49m\u001b[43m(\u001b[49m\u001b[43mx\u001b[49m\u001b[43m,\u001b[49m\u001b[43m \u001b[49m\u001b[43my\u001b[49m\u001b[43m,\u001b[49m\u001b[43m \u001b[49m\u001b[43mhue\u001b[49m\u001b[43m,\u001b[49m\u001b[43m \u001b[49m\u001b[43mdata\u001b[49m\u001b[43m,\u001b[49m\u001b[43m \u001b[49m\u001b[43morder\u001b[49m\u001b[43m,\u001b[49m\u001b[43m \u001b[49m\u001b[43mhue_order\u001b[49m\u001b[43m,\u001b[49m\n\u001b[0;32m   3183\u001b[0m \u001b[43m                          \u001b[49m\u001b[43mestimator\u001b[49m\u001b[43m,\u001b[49m\u001b[43m \u001b[49m\u001b[43mci\u001b[49m\u001b[43m,\u001b[49m\u001b[43m \u001b[49m\u001b[43mn_boot\u001b[49m\u001b[43m,\u001b[49m\u001b[43m \u001b[49m\u001b[43munits\u001b[49m\u001b[43m,\u001b[49m\u001b[43m \u001b[49m\u001b[43mseed\u001b[49m\u001b[43m,\u001b[49m\n\u001b[0;32m   3184\u001b[0m \u001b[43m                          \u001b[49m\u001b[43morient\u001b[49m\u001b[43m,\u001b[49m\u001b[43m \u001b[49m\u001b[43mcolor\u001b[49m\u001b[43m,\u001b[49m\u001b[43m \u001b[49m\u001b[43mpalette\u001b[49m\u001b[43m,\u001b[49m\u001b[43m \u001b[49m\u001b[43msaturation\u001b[49m\u001b[43m,\u001b[49m\n\u001b[0;32m   3185\u001b[0m \u001b[43m                          \u001b[49m\u001b[43merrcolor\u001b[49m\u001b[43m,\u001b[49m\u001b[43m \u001b[49m\u001b[43merrwidth\u001b[49m\u001b[43m,\u001b[49m\u001b[43m \u001b[49m\u001b[43mcapsize\u001b[49m\u001b[43m,\u001b[49m\u001b[43m \u001b[49m\u001b[43mdodge\u001b[49m\u001b[43m)\u001b[49m\n\u001b[0;32m   3187\u001b[0m     \u001b[38;5;28;01mif\u001b[39;00m ax \u001b[38;5;129;01mis\u001b[39;00m \u001b[38;5;28;01mNone\u001b[39;00m:\n\u001b[0;32m   3188\u001b[0m         ax \u001b[38;5;241m=\u001b[39m plt\u001b[38;5;241m.\u001b[39mgca()\n",
      "File \u001b[1;32m~\\anaconda3\\lib\\site-packages\\seaborn\\categorical.py:1584\u001b[0m, in \u001b[0;36m_BarPlotter.__init__\u001b[1;34m(self, x, y, hue, data, order, hue_order, estimator, ci, n_boot, units, seed, orient, color, palette, saturation, errcolor, errwidth, capsize, dodge)\u001b[0m\n\u001b[0;32m   1579\u001b[0m \u001b[38;5;28;01mdef\u001b[39;00m \u001b[38;5;21m__init__\u001b[39m(\u001b[38;5;28mself\u001b[39m, x, y, hue, data, order, hue_order,\n\u001b[0;32m   1580\u001b[0m              estimator, ci, n_boot, units, seed,\n\u001b[0;32m   1581\u001b[0m              orient, color, palette, saturation, errcolor,\n\u001b[0;32m   1582\u001b[0m              errwidth, capsize, dodge):\n\u001b[0;32m   1583\u001b[0m     \u001b[38;5;124;03m\"\"\"Initialize the plotter.\"\"\"\u001b[39;00m\n\u001b[1;32m-> 1584\u001b[0m     \u001b[38;5;28;43mself\u001b[39;49m\u001b[38;5;241;43m.\u001b[39;49m\u001b[43mestablish_variables\u001b[49m\u001b[43m(\u001b[49m\u001b[43mx\u001b[49m\u001b[43m,\u001b[49m\u001b[43m \u001b[49m\u001b[43my\u001b[49m\u001b[43m,\u001b[49m\u001b[43m \u001b[49m\u001b[43mhue\u001b[49m\u001b[43m,\u001b[49m\u001b[43m \u001b[49m\u001b[43mdata\u001b[49m\u001b[43m,\u001b[49m\u001b[43m \u001b[49m\u001b[43morient\u001b[49m\u001b[43m,\u001b[49m\n\u001b[0;32m   1585\u001b[0m \u001b[43m                             \u001b[49m\u001b[43morder\u001b[49m\u001b[43m,\u001b[49m\u001b[43m \u001b[49m\u001b[43mhue_order\u001b[49m\u001b[43m,\u001b[49m\u001b[43m \u001b[49m\u001b[43munits\u001b[49m\u001b[43m)\u001b[49m\n\u001b[0;32m   1586\u001b[0m     \u001b[38;5;28mself\u001b[39m\u001b[38;5;241m.\u001b[39mestablish_colors(color, palette, saturation)\n\u001b[0;32m   1587\u001b[0m     \u001b[38;5;28mself\u001b[39m\u001b[38;5;241m.\u001b[39mestimate_statistic(estimator, ci, n_boot, seed)\n",
      "File \u001b[1;32m~\\anaconda3\\lib\\site-packages\\seaborn\\categorical.py:153\u001b[0m, in \u001b[0;36m_CategoricalPlotter.establish_variables\u001b[1;34m(self, x, y, hue, data, orient, order, hue_order, units)\u001b[0m\n\u001b[0;32m    151\u001b[0m     \u001b[38;5;28;01mif\u001b[39;00m \u001b[38;5;28misinstance\u001b[39m(var, \u001b[38;5;28mstr\u001b[39m):\n\u001b[0;32m    152\u001b[0m         err \u001b[38;5;241m=\u001b[39m \u001b[38;5;124m\"\u001b[39m\u001b[38;5;124mCould not interpret input \u001b[39m\u001b[38;5;124m'\u001b[39m\u001b[38;5;132;01m{}\u001b[39;00m\u001b[38;5;124m'\u001b[39m\u001b[38;5;124m\"\u001b[39m\u001b[38;5;241m.\u001b[39mformat(var)\n\u001b[1;32m--> 153\u001b[0m         \u001b[38;5;28;01mraise\u001b[39;00m \u001b[38;5;167;01mValueError\u001b[39;00m(err)\n\u001b[0;32m    155\u001b[0m \u001b[38;5;66;03m# Figure out the plotting orientation\u001b[39;00m\n\u001b[0;32m    156\u001b[0m orient \u001b[38;5;241m=\u001b[39m infer_orient(\n\u001b[0;32m    157\u001b[0m     x, y, orient, require_numeric\u001b[38;5;241m=\u001b[39m\u001b[38;5;28mself\u001b[39m\u001b[38;5;241m.\u001b[39mrequire_numeric\n\u001b[0;32m    158\u001b[0m )\n",
      "\u001b[1;31mValueError\u001b[0m: Could not interpret input 'Category'"
     ]
    }
   ],
   "source": [
    "# Create bar chart of `df_inccat`\n",
    "sns.barplot(\n",
    "    x=\"Category\",\n",
    "    y=\"frequency\",\n",
    "    data=df_cat\n",
    "    #order=inccat_dict.values()\n",
    ")\n",
    "plt.xlabel(\"Income Category\")\n",
    "plt.ylabel(\"Frequency (%)\")\n",
    "plt.title(\"Income Distribution: Credit Fearful vs. Non-fearful\");"
   ]
  },
  {
   "cell_type": "code",
   "execution_count": 233,
   "id": "b054c59c",
   "metadata": {},
   "outputs": [],
   "source": [
    "df[\"Category\"] = df[\"Category\"].astype(\"category\")"
   ]
  },
  {
   "cell_type": "code",
   "execution_count": 255,
   "id": "08e8135a",
   "metadata": {},
   "outputs": [
    {
     "data": {
      "text/plain": [
       "<AxesSubplot:>"
      ]
     },
     "execution_count": 255,
     "metadata": {},
     "output_type": "execute_result"
    },
    {
     "data": {
      "image/png": "[encoded data removed]",
      "text/plain": [
       "<Figure size 432x288 with 1 Axes>"
      ]
     },
     "metadata": {
      "needs_background": "light"
     },
     "output_type": "display_data"
    }
   ],
   "source": [
    "# df[\"Event\"].value_counts(normalize=True).plot(\n",
    "#     kind=\"bar\",\n",
    "#     xlabel=\"Backrupt\",\n",
    "#     ylabel=\"Frequency\",\n",
    "#     title=\"Amount\",\n",
    "#     figsize=(12, 12)\n",
    "# );\n",
    "df[\"Amount\"].describe()\n",
    "df[\"Account\"].hist()"
   ]
  },
  {
   "cell_type": "code",
   "execution_count": 263,
   "id": "297ecc09",
   "metadata": {},
   "outputs": [],
   "source": [
    "df_In = (df.query(\"Amount > 0\") == 0) \n",
    "df_Out = (df.query(\"Amount < 0\") == 1)"
   ]
  },
  {
   "cell_type": "code",
   "execution_count": 264,
   "id": "7bfbf462",
   "metadata": {},
   "outputs": [
    {
     "name": "stdout",
     "output_type": "stream",
     "text": [
      "       ID  Amount  Category  Account  Currency   Date  Event\n",
      "14  False   False     False    False     False  False  False\n",
      "18  False   False     False    False     False  False  False\n",
      "32  False   False     False    False     False  False  False\n",
      "35  False   False     False    False     False  False  False\n",
      "36  False   False     False    False     False  False  False\n",
      "      ID  Amount  Category  Account  Currency   Date  Event\n",
      "0   True   False     False    False     False  False  False\n",
      "1  False   False     False    False     False  False  False\n",
      "2  False   False     False    False     False  False  False\n",
      "3  False   False     False    False     False  False  False\n",
      "4  False   False     False    False     False  False  False\n"
     ]
    }
   ],
   "source": [
    "print(df_In.head())\n",
    "print(df_Out.head())"
   ]
  },
  {
   "cell_type": "code",
   "execution_count": 213,
   "id": "55382fd4",
   "metadata": {},
   "outputs": [
    {
     "data": {
      "text/html": [
       "<div>\n",
       "<style scoped>\n",
       "    .dataframe tbody tr th:only-of-type {\n",
       "        vertical-align: middle;\n",
       "    }\n",
       "\n",
       "    .dataframe tbody tr th {\n",
       "        vertical-align: top;\n",
       "    }\n",
       "\n",
       "    .dataframe thead th {\n",
       "        text-align: right;\n",
       "    }\n",
       "</style>\n",
       "<table border=\"1\" class=\"dataframe\">\n",
       "  <thead>\n",
       "    <tr style=\"text-align: right;\">\n",
       "      <th></th>\n",
       "      <th>ID</th>\n",
       "      <th>Amount</th>\n",
       "      <th>Category</th>\n",
       "      <th>Account</th>\n",
       "      <th>Currency</th>\n",
       "      <th>Date</th>\n",
       "      <th>Event</th>\n",
       "      <th>ID</th>\n",
       "      <th>Amount</th>\n",
       "      <th>Category</th>\n",
       "      <th>Account</th>\n",
       "      <th>Currency</th>\n",
       "      <th>Date</th>\n",
       "      <th>Event</th>\n",
       "    </tr>\n",
       "  </thead>\n",
       "  <tbody>\n",
       "    <tr>\n",
       "      <th>14</th>\n",
       "      <td>15.0</td>\n",
       "      <td>68000.0</td>\n",
       "      <td>Salary</td>\n",
       "      <td>Salary Account</td>\n",
       "      <td>INR</td>\n",
       "      <td>2022-08-30</td>\n",
       "      <td>No</td>\n",
       "      <td>NaN</td>\n",
       "      <td>NaN</td>\n",
       "      <td>NaN</td>\n",
       "      <td>NaN</td>\n",
       "      <td>NaN</td>\n",
       "      <td>NaT</td>\n",
       "      <td>NaN</td>\n",
       "    </tr>\n",
       "    <tr>\n",
       "      <th>18</th>\n",
       "      <td>19.0</td>\n",
       "      <td>1500.0</td>\n",
       "      <td>Gifts</td>\n",
       "      <td>Salary Account</td>\n",
       "      <td>INR</td>\n",
       "      <td>2022-08-27</td>\n",
       "      <td>No</td>\n",
       "      <td>NaN</td>\n",
       "      <td>NaN</td>\n",
       "      <td>NaN</td>\n",
       "      <td>NaN</td>\n",
       "      <td>NaN</td>\n",
       "      <td>NaT</td>\n",
       "      <td>NaN</td>\n",
       "    </tr>\n",
       "    <tr>\n",
       "      <th>32</th>\n",
       "      <td>33.0</td>\n",
       "      <td>660.0</td>\n",
       "      <td>Dividend</td>\n",
       "      <td>Salary Account</td>\n",
       "      <td>INR</td>\n",
       "      <td>2022-08-12</td>\n",
       "      <td>No</td>\n",
       "      <td>NaN</td>\n",
       "      <td>NaN</td>\n",
       "      <td>NaN</td>\n",
       "      <td>NaN</td>\n",
       "      <td>NaN</td>\n",
       "      <td>NaT</td>\n",
       "      <td>NaN</td>\n",
       "    </tr>\n",
       "    <tr>\n",
       "      <th>35</th>\n",
       "      <td>36.0</td>\n",
       "      <td>1000.0</td>\n",
       "      <td>Gifts</td>\n",
       "      <td>Salary Account</td>\n",
       "      <td>INR</td>\n",
       "      <td>2022-08-11</td>\n",
       "      <td>No</td>\n",
       "      <td>NaN</td>\n",
       "      <td>NaN</td>\n",
       "      <td>NaN</td>\n",
       "      <td>NaN</td>\n",
       "      <td>NaN</td>\n",
       "      <td>NaT</td>\n",
       "      <td>NaN</td>\n",
       "    </tr>\n",
       "    <tr>\n",
       "      <th>36</th>\n",
       "      <td>37.0</td>\n",
       "      <td>500.0</td>\n",
       "      <td>Gifts</td>\n",
       "      <td>Salary Account</td>\n",
       "      <td>INR</td>\n",
       "      <td>2022-08-11</td>\n",
       "      <td>No</td>\n",
       "      <td>NaN</td>\n",
       "      <td>NaN</td>\n",
       "      <td>NaN</td>\n",
       "      <td>NaN</td>\n",
       "      <td>NaN</td>\n",
       "      <td>NaT</td>\n",
       "      <td>NaN</td>\n",
       "    </tr>\n",
       "    <tr>\n",
       "      <th>...</th>\n",
       "      <td>...</td>\n",
       "      <td>...</td>\n",
       "      <td>...</td>\n",
       "      <td>...</td>\n",
       "      <td>...</td>\n",
       "      <td>...</td>\n",
       "      <td>...</td>\n",
       "      <td>...</td>\n",
       "      <td>...</td>\n",
       "      <td>...</td>\n",
       "      <td>...</td>\n",
       "      <td>...</td>\n",
       "      <td>...</td>\n",
       "      <td>...</td>\n",
       "    </tr>\n",
       "    <tr>\n",
       "      <th>2677</th>\n",
       "      <td>NaN</td>\n",
       "      <td>NaN</td>\n",
       "      <td>NaN</td>\n",
       "      <td>NaN</td>\n",
       "      <td>NaN</td>\n",
       "      <td>NaT</td>\n",
       "      <td>NaN</td>\n",
       "      <td>2678.0</td>\n",
       "      <td>-100.0</td>\n",
       "      <td>J1</td>\n",
       "      <td>Cash</td>\n",
       "      <td>INR</td>\n",
       "      <td>2016-11-06</td>\n",
       "      <td>No</td>\n",
       "    </tr>\n",
       "    <tr>\n",
       "      <th>2678</th>\n",
       "      <td>NaN</td>\n",
       "      <td>NaN</td>\n",
       "      <td>NaN</td>\n",
       "      <td>NaN</td>\n",
       "      <td>NaN</td>\n",
       "      <td>NaT</td>\n",
       "      <td>NaN</td>\n",
       "      <td>2679.0</td>\n",
       "      <td>-100.0</td>\n",
       "      <td>J1</td>\n",
       "      <td>Cash</td>\n",
       "      <td>INR</td>\n",
       "      <td>2016-11-06</td>\n",
       "      <td>No</td>\n",
       "    </tr>\n",
       "    <tr>\n",
       "      <th>2679</th>\n",
       "      <td>NaN</td>\n",
       "      <td>NaN</td>\n",
       "      <td>NaN</td>\n",
       "      <td>NaN</td>\n",
       "      <td>NaN</td>\n",
       "      <td>NaT</td>\n",
       "      <td>NaN</td>\n",
       "      <td>2680.0</td>\n",
       "      <td>-100.0</td>\n",
       "      <td>Books</td>\n",
       "      <td>Cash</td>\n",
       "      <td>INR</td>\n",
       "      <td>2016-11-05</td>\n",
       "      <td>No</td>\n",
       "    </tr>\n",
       "    <tr>\n",
       "      <th>2680</th>\n",
       "      <td>NaN</td>\n",
       "      <td>NaN</td>\n",
       "      <td>NaN</td>\n",
       "      <td>NaN</td>\n",
       "      <td>NaN</td>\n",
       "      <td>NaT</td>\n",
       "      <td>NaN</td>\n",
       "      <td>2681.0</td>\n",
       "      <td>-100.0</td>\n",
       "      <td>J1</td>\n",
       "      <td>Cash</td>\n",
       "      <td>INR</td>\n",
       "      <td>2016-11-05</td>\n",
       "      <td>No</td>\n",
       "    </tr>\n",
       "    <tr>\n",
       "      <th>2681</th>\n",
       "      <td>NaN</td>\n",
       "      <td>NaN</td>\n",
       "      <td>NaN</td>\n",
       "      <td>NaN</td>\n",
       "      <td>NaN</td>\n",
       "      <td>NaT</td>\n",
       "      <td>NaN</td>\n",
       "      <td>2682.0</td>\n",
       "      <td>-150.0</td>\n",
       "      <td>Transportation</td>\n",
       "      <td>Cash</td>\n",
       "      <td>INR</td>\n",
       "      <td>2016-11-04</td>\n",
       "      <td>No</td>\n",
       "    </tr>\n",
       "  </tbody>\n",
       "</table>\n",
       "<p>2683 rows × 14 columns</p>\n",
       "</div>"
      ],
      "text/plain": [
       "        ID   Amount  Category         Account Currency       Date Event  \\\n",
       "14    15.0  68000.0    Salary  Salary Account      INR 2022-08-30    No   \n",
       "18    19.0   1500.0     Gifts  Salary Account      INR 2022-08-27    No   \n",
       "32    33.0    660.0  Dividend  Salary Account      INR 2022-08-12    No   \n",
       "35    36.0   1000.0     Gifts  Salary Account      INR 2022-08-11    No   \n",
       "36    37.0    500.0     Gifts  Salary Account      INR 2022-08-11    No   \n",
       "...    ...      ...       ...             ...      ...        ...   ...   \n",
       "2677   NaN      NaN       NaN             NaN      NaN        NaT   NaN   \n",
       "2678   NaN      NaN       NaN             NaN      NaN        NaT   NaN   \n",
       "2679   NaN      NaN       NaN             NaN      NaN        NaT   NaN   \n",
       "2680   NaN      NaN       NaN             NaN      NaN        NaT   NaN   \n",
       "2681   NaN      NaN       NaN             NaN      NaN        NaT   NaN   \n",
       "\n",
       "          ID  Amount        Category Account Currency       Date Event  \n",
       "14       NaN     NaN             NaN     NaN      NaN        NaT   NaN  \n",
       "18       NaN     NaN             NaN     NaN      NaN        NaT   NaN  \n",
       "32       NaN     NaN             NaN     NaN      NaN        NaT   NaN  \n",
       "35       NaN     NaN             NaN     NaN      NaN        NaT   NaN  \n",
       "36       NaN     NaN             NaN     NaN      NaN        NaT   NaN  \n",
       "...      ...     ...             ...     ...      ...        ...   ...  \n",
       "2677  2678.0  -100.0              J1    Cash      INR 2016-11-06    No  \n",
       "2678  2679.0  -100.0              J1    Cash      INR 2016-11-06    No  \n",
       "2679  2680.0  -100.0           Books    Cash      INR 2016-11-05    No  \n",
       "2680  2681.0  -100.0              J1    Cash      INR 2016-11-05    No  \n",
       "2681  2682.0  -150.0  Transportation    Cash      INR 2016-11-04    No  \n",
       "\n",
       "[2683 rows x 14 columns]"
      ]
     },
     "execution_count": 213,
     "metadata": {},
     "output_type": "execute_result"
    }
   ],
   "source": [
    "df1 = pd.concat([df_In, df_Out], axis=1)\n",
    "df1"
   ]
  },
  {
   "cell_type": "code",
   "execution_count": 154,
   "id": "eece9bfd",
   "metadata": {},
   "outputs": [],
   "source": [
    "df.loc[df[\"Amount\"] >= 0, \"Flag\"] = \"Inflow\"\n",
    "df.loc[df[\"Amount\"] <= 0, \"Flag\"] = \"Outflow\""
   ]
  },
  {
   "cell_type": "code",
   "execution_count": 157,
   "id": "9933be2d",
   "metadata": {},
   "outputs": [],
   "source": [
    "df_Inflow = df[df[\"Flag\"]==\"Inflow\"] \n",
    "df_Outflow = df[df[\"Flag\"]==\"Outflow\"] "
   ]
  },
  {
   "cell_type": "code",
   "execution_count": 167,
   "id": "2825bac0",
   "metadata": {},
   "outputs": [
    {
     "name": "stdout",
     "output_type": "stream",
     "text": [
      "<class 'pandas.core.frame.DataFrame'>\n",
      "Int64Index: 2361 entries, 0 to 2681\n",
      "Data columns (total 10 columns):\n",
      " #   Column    Non-Null Count  Dtype \n",
      "---  ------    --------------  ----- \n",
      " 0   ID        2361 non-null   int64 \n",
      " 1   Amount    2361 non-null   int64 \n",
      " 2   Category  2361 non-null   object\n",
      " 3   Account   2361 non-null   object\n",
      " 4   Currency  2361 non-null   object\n",
      " 5   Date      2361 non-null   object\n",
      " 6   Event     2361 non-null   object\n",
      " 7   Inflow    2361 non-null   object\n",
      " 8   Outflow   2361 non-null   object\n",
      " 9   Flag      2361 non-null   object\n",
      "dtypes: int64(2), object(8)\n",
      "memory usage: 202.9+ KB\n"
     ]
    }
   ],
   "source": [
    "df_Outflow.info()"
   ]
  },
  {
   "cell_type": "code",
   "execution_count": 199,
   "id": "7ffb9d53",
   "metadata": {},
   "outputs": [
    {
     "data": {
      "text/plain": [
       "Food & Beverage      516\n",
       "J1                   415\n",
       "Petrol               230\n",
       "Transportation       149\n",
       "Bills & Utilities    109\n",
       "Name: Category, dtype: int64"
      ]
     },
     "execution_count": 199,
     "metadata": {},
     "output_type": "execute_result"
    }
   ],
   "source": [
    "df[\"Category\"].value_counts().head()"
   ]
  },
  {
   "cell_type": "code",
   "execution_count": 200,
   "id": "1cbdd6ec",
   "metadata": {},
   "outputs": [
    {
     "data": {
      "text/plain": [
       "Salary Account    1730\n",
       "Cash               946\n",
       "FD                   7\n",
       "Name: Account, dtype: int64"
      ]
     },
     "execution_count": 200,
     "metadata": {},
     "output_type": "execute_result"
    }
   ],
   "source": [
    "df[\"Account\"].value_counts().head()"
   ]
  },
  {
   "cell_type": "code",
   "execution_count": 159,
   "id": "9f90df49",
   "metadata": {},
   "outputs": [
    {
     "data": {
      "text/plain": [
       "count       322.000000\n",
       "mean       8502.080745\n",
       "std       16697.986462\n",
       "min          60.000000\n",
       "25%        1000.000000\n",
       "50%        2200.000000\n",
       "75%        6000.000000\n",
       "max      121700.000000\n",
       "Name: Amount, dtype: float64"
      ]
     },
     "execution_count": 159,
     "metadata": {},
     "output_type": "execute_result"
    }
   ],
   "source": [
    "df_Inflow[\"Amount\"].describe()"
   ]
  },
  {
   "cell_type": "code",
   "execution_count": 201,
   "id": "63d7003b",
   "metadata": {},
   "outputs": [
    {
     "data": {
      "image/png": "[encoded data removed]",
      "text/plain": [
       "<Figure size 432x288 with 1 Axes>"
      ]
     },
     "metadata": {
      "needs_background": "light"
     },
     "output_type": "display_data"
    }
   ],
   "source": [
    "plt.boxplot(df[\"Amount\"], vert=False);"
   ]
  },
  {
   "cell_type": "code",
   "execution_count": 205,
   "id": "1e7cabd1",
   "metadata": {},
   "outputs": [
    {
     "data": {
      "text/plain": [
       "Category\n",
       "Salary           22439.932203\n",
       "Withdrawal       16156.250000\n",
       "Selling          10090.000000\n",
       "Gifts             9405.000000\n",
       "Debt              8228.571429\n",
       "                     ...     \n",
       "Flight           -5700.000000\n",
       "Repayment        -7200.000000\n",
       "Other Expense    -7596.904762\n",
       "Investment       -8514.571429\n",
       "SIP             -11111.111111\n",
       "Name: Amount, Length: 62, dtype: float64"
      ]
     },
     "execution_count": 205,
     "metadata": {},
     "output_type": "execute_result"
    }
   ],
   "source": [
    "mean_amount = df.groupby(\"Category\")[\"Amount\"].mean().sort_values(ascending=False)\n",
    "mean_amount"
   ]
  },
  {
   "cell_type": "code",
   "execution_count": 240,
   "id": "2011a132",
   "metadata": {},
   "outputs": [
    {
     "data": {
      "image/png": "[encoded data removed]",
      "text/plain": [
       "<Figure size 864x864 with 1 Axes>"
      ]
     },
     "metadata": {
      "needs_background": "light"
     },
     "output_type": "display_data"
    }
   ],
   "source": [
    "mean_amount.plot(\n",
    "    kind=\"bar\",\n",
    "    xlabel=\"Category\",\n",
    "    ylabel=\"Price [INR]\",\n",
    "    title=\"Mean Amount by Category\",\n",
    "    figsize=(12, 12)\n",
    ");"
   ]
  },
  {
   "cell_type": "code",
   "execution_count": 207,
   "id": "c150e33e",
   "metadata": {},
   "outputs": [
    {
     "data": {
      "text/plain": [
       "array([  -5200,    -600,   -2300,     -70,    -210,    -200,   -3000,\n",
       "         -5000,  -10000,  -40000,    -301,   -6090,   68000,    -500,\n",
       "          -100,    -250,    1500,    -300,    -900,   -3200,    -240,\n",
       "         -1150,   -7800,    -550,    -150,   -1000,     660,    -630,\n",
       "         -2500,    1000,     500,    -350,     110,    -110,    -400,\n",
       "          -800,   -5500,   -6300,    -330,    -700,    -260,   -2000,\n",
       "          -870,   -1700,    -160,   -1600,   50000,  -50000,    -155,\n",
       "         -1680,    -120,   -1965,     -10,    2000,    -320,    -360,\n",
       "         -1300,     -50,    -450,    -205,   -1020,    -650,    -170,\n",
       "        100000,    -975, -100000,  121700,    -455,   -1100,     975,\n",
       "          1150,   30000,    -130,   -6000,  -30000,   70000,    -230,\n",
       "         -1250,   -3100,   -4000,   -2200,    5000,    -425,    -675,\n",
       "         -1800,  -32000,    -610,    -180,     800,   10000,   -7450,\n",
       "         -2475,  -33500,   93900,     480,    -193,    -185,    -175,\n",
       "          -224,      60,     330,    -820,     -55,    -720,    -850,\n",
       "           -80,   19300,   21500,   -1550,   -1500,   -1200,    4000,\n",
       "         -2400,    -220,  -15000,   27440,    -970,     910,    -910,\n",
       "           -40,     -60,     970,  -12800,   15000,     600,    6000,\n",
       "          -145,    -875,   27460,     200,    -950,   -3800,    -690,\n",
       "         -1110,     450,    -190,    -355,   -2575,    2575,     300,\n",
       "           980,    3000,   -3600,   30140,    -750,    -980,   -8580,\n",
       "         25350,   -1650,    -520,    1250,    -390,    -464,    -351,\n",
       "          5800,     210,   -5555,   25340,   -1280,    -555,    1200,\n",
       "         32200,   60000,   40000,   24000,   -2700,     -90,   -1595,\n",
       "         30750,    -255,   26150,   -3185,   -5700,   29600,   -1010,\n",
       "          1100,     -25,    -620,   -3250,   -5175,   -3500,   23450,\n",
       "           100,   -8500,   -1050,   23500,    1230,    7250,   26500,\n",
       "         -4600,   -6150,    6900,   -8000,    7100,    -104,    7404,\n",
       "         -1950,   24190,   -1850,     690,    1684,   -6050,    1900,\n",
       "         22400,   -2250,    7336,    8000,     750,   24600,   -3450,\n",
       "         24300,  -60000,   18000,    2400,   26200,   -2600,   -6500,\n",
       "           -26,   21626,  -14350,   27150,   22060,     -75,   27250,\n",
       "         -1400,    -430,   33000,     700,  -20000,   20000,    1600,\n",
       "          3500,   56000,   -2900,  -11000,   11000,  -22100,    2200,\n",
       "          2500,    3300,    4500,     -30,   -7000,   14200,   -2150,\n",
       "          -370,     -20,     650,   -4150,    -420,     420,    -510,\n",
       "          -770,   -4500,   -4200,     -65,    9000,    -140,    -480,\n",
       "          -270,    -570,   -1060,     400,    7000,    -280,    1400],\n",
       "      dtype=int64)"
      ]
     },
     "execution_count": 207,
     "metadata": {},
     "output_type": "execute_result"
    }
   ],
   "source": [
    "df[\"Amount\"].unique()"
   ]
  },
  {
   "cell_type": "code",
   "execution_count": 208,
   "id": "de90fc5f",
   "metadata": {},
   "outputs": [
    {
     "data": {
      "image/png": "[encoded data removed]",
      "text/plain": [
       "<Figure size 432x288 with 2 Axes>"
      ]
     },
     "metadata": {
      "needs_background": "light"
     },
     "output_type": "display_data"
    }
   ],
   "source": [
    "corr = df.select_dtypes(\"int64\").corr()\n",
    "sns.heatmap(corr);"
   ]
  },
  {
   "cell_type": "code",
   "execution_count": 241,
   "id": "f3e54b04",
   "metadata": {},
   "outputs": [
    {
     "data": {
      "text/plain": [
       "['Account', 'Amount', 'Category', 'Currency', 'Date', 'Event', 'ID']"
      ]
     },
     "execution_count": 241,
     "metadata": {},
     "output_type": "execute_result"
    }
   ],
   "source": [
    "sorted(df.columns)"
   ]
  },
  {
   "cell_type": "code",
   "execution_count": 242,
   "id": "4d825d70",
   "metadata": {},
   "outputs": [
    {
     "name": "stdout",
     "output_type": "stream",
     "text": [
      "<class 'pandas.core.frame.DataFrame'>\n",
      "RangeIndex: 2683 entries, 0 to 2682\n",
      "Data columns (total 7 columns):\n",
      " #   Column    Non-Null Count  Dtype         \n",
      "---  ------    --------------  -----         \n",
      " 0   ID        2683 non-null   int64         \n",
      " 1   Amount    2683 non-null   int64         \n",
      " 2   Category  2683 non-null   category      \n",
      " 3   Account   2683 non-null   object        \n",
      " 4   Currency  2683 non-null   object        \n",
      " 5   Date      2683 non-null   datetime64[ns]\n",
      " 6   Event     2683 non-null   object        \n",
      "dtypes: category(1), datetime64[ns](1), int64(2), object(3)\n",
      "memory usage: 131.0+ KB\n"
     ]
    }
   ],
   "source": [
    "df.head()\n",
    "df.info()"
   ]
  },
  {
   "cell_type": "code",
   "execution_count": 243,
   "id": "2539a24f",
   "metadata": {},
   "outputs": [
    {
     "data": {
      "text/plain": [
       "ID                   int64\n",
       "Amount               int64\n",
       "Category          category\n",
       "Account             object\n",
       "Currency            object\n",
       "Date        datetime64[ns]\n",
       "Event               object\n",
       "dtype: object"
      ]
     },
     "execution_count": 243,
     "metadata": {},
     "output_type": "execute_result"
    }
   ],
   "source": [
    "df.dtypes"
   ]
  },
  {
   "cell_type": "code",
   "execution_count": 244,
   "id": "4da36131",
   "metadata": {},
   "outputs": [
    {
     "data": {
      "text/html": [
       "<div>\n",
       "<style scoped>\n",
       "    .dataframe tbody tr th:only-of-type {\n",
       "        vertical-align: middle;\n",
       "    }\n",
       "\n",
       "    .dataframe tbody tr th {\n",
       "        vertical-align: top;\n",
       "    }\n",
       "\n",
       "    .dataframe thead th {\n",
       "        text-align: right;\n",
       "    }\n",
       "</style>\n",
       "<table border=\"1\" class=\"dataframe\">\n",
       "  <thead>\n",
       "    <tr style=\"text-align: right;\">\n",
       "      <th></th>\n",
       "      <th>ID</th>\n",
       "      <th>Amount</th>\n",
       "      <th>Category</th>\n",
       "      <th>Account</th>\n",
       "      <th>Currency</th>\n",
       "      <th>Date</th>\n",
       "      <th>Event</th>\n",
       "    </tr>\n",
       "  </thead>\n",
       "  <tbody>\n",
       "    <tr>\n",
       "      <th>0</th>\n",
       "      <td>1</td>\n",
       "      <td>-5200</td>\n",
       "      <td>Gifts &amp; Donations</td>\n",
       "      <td>Salary Account</td>\n",
       "      <td>INR</td>\n",
       "      <td>2022-09-09</td>\n",
       "      <td>No</td>\n",
       "    </tr>\n",
       "    <tr>\n",
       "      <th>1</th>\n",
       "      <td>2</td>\n",
       "      <td>-600</td>\n",
       "      <td>Insurances</td>\n",
       "      <td>Salary Account</td>\n",
       "      <td>INR</td>\n",
       "      <td>2022-09-09</td>\n",
       "      <td>No</td>\n",
       "    </tr>\n",
       "    <tr>\n",
       "      <th>2</th>\n",
       "      <td>3</td>\n",
       "      <td>-2300</td>\n",
       "      <td>Clothing</td>\n",
       "      <td>Salary Account</td>\n",
       "      <td>INR</td>\n",
       "      <td>2022-09-09</td>\n",
       "      <td>No</td>\n",
       "    </tr>\n",
       "    <tr>\n",
       "      <th>3</th>\n",
       "      <td>4</td>\n",
       "      <td>-70</td>\n",
       "      <td>Food &amp; Beverage</td>\n",
       "      <td>Salary Account</td>\n",
       "      <td>INR</td>\n",
       "      <td>2022-09-08</td>\n",
       "      <td>No</td>\n",
       "    </tr>\n",
       "    <tr>\n",
       "      <th>4</th>\n",
       "      <td>5</td>\n",
       "      <td>-210</td>\n",
       "      <td>Phone Bill</td>\n",
       "      <td>Salary Account</td>\n",
       "      <td>INR</td>\n",
       "      <td>2022-09-05</td>\n",
       "      <td>No</td>\n",
       "    </tr>\n",
       "    <tr>\n",
       "      <th>5</th>\n",
       "      <td>6</td>\n",
       "      <td>-200</td>\n",
       "      <td>Petrol</td>\n",
       "      <td>Salary Account</td>\n",
       "      <td>INR</td>\n",
       "      <td>2022-09-05</td>\n",
       "      <td>No</td>\n",
       "    </tr>\n",
       "    <tr>\n",
       "      <th>6</th>\n",
       "      <td>7</td>\n",
       "      <td>-200</td>\n",
       "      <td>Gifts &amp; Donations</td>\n",
       "      <td>Salary Account</td>\n",
       "      <td>INR</td>\n",
       "      <td>2022-09-04</td>\n",
       "      <td>No</td>\n",
       "    </tr>\n",
       "    <tr>\n",
       "      <th>7</th>\n",
       "      <td>8</td>\n",
       "      <td>-3000</td>\n",
       "      <td>Phone Bill</td>\n",
       "      <td>Salary Account</td>\n",
       "      <td>INR</td>\n",
       "      <td>2022-09-02</td>\n",
       "      <td>No</td>\n",
       "    </tr>\n",
       "    <tr>\n",
       "      <th>8</th>\n",
       "      <td>9</td>\n",
       "      <td>-5000</td>\n",
       "      <td>PPF</td>\n",
       "      <td>Salary Account</td>\n",
       "      <td>INR</td>\n",
       "      <td>2022-09-02</td>\n",
       "      <td>No</td>\n",
       "    </tr>\n",
       "    <tr>\n",
       "      <th>9</th>\n",
       "      <td>10</td>\n",
       "      <td>-5000</td>\n",
       "      <td>Baba</td>\n",
       "      <td>Salary Account</td>\n",
       "      <td>INR</td>\n",
       "      <td>2022-09-01</td>\n",
       "      <td>No</td>\n",
       "    </tr>\n",
       "    <tr>\n",
       "      <th>10</th>\n",
       "      <td>11</td>\n",
       "      <td>-10000</td>\n",
       "      <td>SIP</td>\n",
       "      <td>Salary Account</td>\n",
       "      <td>INR</td>\n",
       "      <td>2022-09-01</td>\n",
       "      <td>No</td>\n",
       "    </tr>\n",
       "    <tr>\n",
       "      <th>11</th>\n",
       "      <td>12</td>\n",
       "      <td>-40000</td>\n",
       "      <td>SIP</td>\n",
       "      <td>Salary Account</td>\n",
       "      <td>INR</td>\n",
       "      <td>2022-09-01</td>\n",
       "      <td>No</td>\n",
       "    </tr>\n",
       "    <tr>\n",
       "      <th>12</th>\n",
       "      <td>13</td>\n",
       "      <td>-301</td>\n",
       "      <td>Family</td>\n",
       "      <td>Salary Account</td>\n",
       "      <td>INR</td>\n",
       "      <td>2022-08-31</td>\n",
       "      <td>No</td>\n",
       "    </tr>\n",
       "    <tr>\n",
       "      <th>13</th>\n",
       "      <td>14</td>\n",
       "      <td>-6090</td>\n",
       "      <td>Electronics</td>\n",
       "      <td>Salary Account</td>\n",
       "      <td>INR</td>\n",
       "      <td>2022-08-31</td>\n",
       "      <td>No</td>\n",
       "    </tr>\n",
       "    <tr>\n",
       "      <th>14</th>\n",
       "      <td>15</td>\n",
       "      <td>68000</td>\n",
       "      <td>Salary</td>\n",
       "      <td>Salary Account</td>\n",
       "      <td>INR</td>\n",
       "      <td>2022-08-30</td>\n",
       "      <td>No</td>\n",
       "    </tr>\n",
       "    <tr>\n",
       "      <th>15</th>\n",
       "      <td>16</td>\n",
       "      <td>-500</td>\n",
       "      <td>Petrol</td>\n",
       "      <td>Salary Account</td>\n",
       "      <td>INR</td>\n",
       "      <td>2022-08-30</td>\n",
       "      <td>No</td>\n",
       "    </tr>\n",
       "    <tr>\n",
       "      <th>16</th>\n",
       "      <td>17</td>\n",
       "      <td>-100</td>\n",
       "      <td>Food &amp; Beverage</td>\n",
       "      <td>Salary Account</td>\n",
       "      <td>INR</td>\n",
       "      <td>2022-08-29</td>\n",
       "      <td>No</td>\n",
       "    </tr>\n",
       "    <tr>\n",
       "      <th>17</th>\n",
       "      <td>18</td>\n",
       "      <td>-250</td>\n",
       "      <td>Zomato</td>\n",
       "      <td>Salary Account</td>\n",
       "      <td>INR</td>\n",
       "      <td>2022-08-28</td>\n",
       "      <td>No</td>\n",
       "    </tr>\n",
       "    <tr>\n",
       "      <th>18</th>\n",
       "      <td>19</td>\n",
       "      <td>1500</td>\n",
       "      <td>Gifts</td>\n",
       "      <td>Salary Account</td>\n",
       "      <td>INR</td>\n",
       "      <td>2022-08-27</td>\n",
       "      <td>No</td>\n",
       "    </tr>\n",
       "    <tr>\n",
       "      <th>19</th>\n",
       "      <td>20</td>\n",
       "      <td>-300</td>\n",
       "      <td>Zomato</td>\n",
       "      <td>Salary Account</td>\n",
       "      <td>INR</td>\n",
       "      <td>2022-08-26</td>\n",
       "      <td>No</td>\n",
       "    </tr>\n",
       "  </tbody>\n",
       "</table>\n",
       "</div>"
      ],
      "text/plain": [
       "    ID  Amount           Category         Account Currency       Date Event\n",
       "0    1   -5200  Gifts & Donations  Salary Account      INR 2022-09-09    No\n",
       "1    2    -600         Insurances  Salary Account      INR 2022-09-09    No\n",
       "2    3   -2300           Clothing  Salary Account      INR 2022-09-09    No\n",
       "3    4     -70    Food & Beverage  Salary Account      INR 2022-09-08    No\n",
       "4    5    -210         Phone Bill  Salary Account      INR 2022-09-05    No\n",
       "5    6    -200             Petrol  Salary Account      INR 2022-09-05    No\n",
       "6    7    -200  Gifts & Donations  Salary Account      INR 2022-09-04    No\n",
       "7    8   -3000         Phone Bill  Salary Account      INR 2022-09-02    No\n",
       "8    9   -5000                PPF  Salary Account      INR 2022-09-02    No\n",
       "9   10   -5000               Baba  Salary Account      INR 2022-09-01    No\n",
       "10  11  -10000                SIP  Salary Account      INR 2022-09-01    No\n",
       "11  12  -40000                SIP  Salary Account      INR 2022-09-01    No\n",
       "12  13    -301             Family  Salary Account      INR 2022-08-31    No\n",
       "13  14   -6090        Electronics  Salary Account      INR 2022-08-31    No\n",
       "14  15   68000             Salary  Salary Account      INR 2022-08-30    No\n",
       "15  16    -500             Petrol  Salary Account      INR 2022-08-30    No\n",
       "16  17    -100    Food & Beverage  Salary Account      INR 2022-08-29    No\n",
       "17  18    -250             Zomato  Salary Account      INR 2022-08-28    No\n",
       "18  19    1500              Gifts  Salary Account      INR 2022-08-27    No\n",
       "19  20    -300             Zomato  Salary Account      INR 2022-08-26    No"
      ]
     },
     "execution_count": 244,
     "metadata": {},
     "output_type": "execute_result"
    }
   ],
   "source": [
    "df.head(20)"
   ]
  },
  {
   "cell_type": "code",
   "execution_count": null,
   "id": "d84c3b4b",
   "metadata": {},
   "outputs": [],
   "source": []
  }
 ],
 "metadata": {
  "kernelspec": {
   "display_name": "Python 3 (ipykernel)",
   "language": "python",
   "name": "python3"
  },
  "language_info": {
   "codemirror_mode": {
    "name": "ipython",
    "version": 3
   },
   "file_extension": ".py",
   "mimetype": "text/x-python",
   "name": "python",
   "nbconvert_exporter": "python",
   "pygments_lexer": "ipython3",
   "version": "3.9.12"
  }
 },
 "nbformat": 4,
 "nbformat_minor": 5
}
